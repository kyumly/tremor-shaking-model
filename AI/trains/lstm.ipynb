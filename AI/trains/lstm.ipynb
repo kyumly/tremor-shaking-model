{
 "cells": [
  {
   "cell_type": "code",
   "outputs": [
    {
     "name": "stdout",
     "output_type": "stream",
     "text": [
      "The autoreload extension is already loaded. To reload it, use:\n",
      "  %reload_ext autoreload\n"
     ]
    }
   ],
   "source": [
    "import numpy as np\n",
    "import matplotlib.pyplot as plt\n",
    "import pandas as pd\n",
    "import torch\n",
    "import torch.nn as nn\n",
    "from sklearn.preprocessing import MinMaxScaler\n",
    "\n",
    "import torch\n",
    "import torch.nn.functional as F\n",
    "from torch.utils.data import Dataset, DataLoader\n",
    "import os\n",
    "from data import CustomDataset\n",
    "from models import trainer, CustomModel\n",
    "\n",
    "from trains.models import LSTM\n",
    "\n",
    "\n",
    "%load_ext autoreload\n",
    "%autoreload 2\n"
   ],
   "metadata": {
    "collapsed": false,
    "ExecuteTime": {
     "end_time": "2024-06-18T12:24:20.444486500Z",
     "start_time": "2024-06-18T12:24:18.972204Z"
    }
   },
   "id": "fa54fd3164009450",
   "execution_count": 11
  },
  {
   "cell_type": "code",
   "outputs": [
    {
     "name": "stdout",
     "output_type": "stream",
     "text": [
      "Device: cuda\n"
     ]
    }
   ],
   "source": [
    "device = torch.device(\"cuda\" if torch.cuda.is_available() else \"cpu\")\n",
    "#device = torch.device(\"cpu\")\n",
    "print('Device:', device)\n",
    "\n",
    "data_origin = pd.read_csv(\"../trains/Dataset.csv\")"
   ],
   "metadata": {
    "collapsed": false,
    "ExecuteTime": {
     "end_time": "2024-06-18T12:24:21.528011100Z",
     "start_time": "2024-06-18T12:24:21.370874500Z"
    }
   },
   "id": "6132fe3ca0f118e7",
   "execution_count": 12
  },
  {
   "cell_type": "code",
   "outputs": [],
   "source": [
    "def sliding_windows(data, seq_length):\n",
    "    x = []\n",
    "    y = []\n",
    "    print(len(data)-seq_length-1)\n",
    "    for i in range(len(data)-seq_length-1):\n",
    "        _x = data[i:(i+seq_length)]\n",
    "        _y = data_origin.iloc[i+seq_length, -1]\n",
    "        x.append(_x)\n",
    "        y.append(_y)\n",
    "\n",
    "    return np.array(x),np.array(y)\n",
    "\n",
    "seq_length = 5"
   ],
   "metadata": {
    "collapsed": false,
    "ExecuteTime": {
     "end_time": "2024-06-18T12:24:22.512382500Z",
     "start_time": "2024-06-18T12:24:22.148577800Z"
    }
   },
   "id": "4890e10955c7929a",
   "execution_count": 13
  },
  {
   "cell_type": "code",
   "outputs": [
    {
     "name": "stdout",
     "output_type": "stream",
     "text": [
      "27989\n",
      "(27989, 5, 6) (27989,)\n",
      "[[-2544 14340 -6864  3840  -335 -1518]\n",
      " [-2380 14188 -5644  3888  1635 -9604]\n",
      " [ -524 14480 -7148  3888 -1663 -1491]\n",
      " [ -528 15052 -6672  3904   461 -4012]\n",
      " [-2808 14040 -5936  3904   595  -339]] 1\n",
      "[[-2380 14188 -5644  3888  1635 -9604]\n",
      " [ -524 14480 -7148  3888 -1663 -1491]\n",
      " [ -528 15052 -6672  3904   461 -4012]\n",
      " [-2808 14040 -5936  3904   595  -339]\n",
      " [  152 14872 -6996  3936   704   984]] 1\n"
     ]
    }
   ],
   "source": [
    "data_value = data_origin.iloc[:, 0:6].values\n",
    "x, y = sliding_windows(data_value, seq_length)\n",
    "\n",
    "print(x.shape,y.shape)\n",
    "print(x[0],y[0])\n",
    "print(x[1],y[1])"
   ],
   "metadata": {
    "collapsed": false,
    "ExecuteTime": {
     "end_time": "2024-06-18T12:24:23.263544Z",
     "start_time": "2024-06-18T12:24:22.568382700Z"
    }
   },
   "id": "f7a5b6fade8af955",
   "execution_count": 14
  },
  {
   "cell_type": "markdown",
   "source": [
    "# Train data, Test data 나누기"
   ],
   "metadata": {
    "collapsed": false
   },
   "id": "510d85829ab437af"
  },
  {
   "cell_type": "code",
   "outputs": [],
   "source": [
    "train_size = int((3 / 4) * len(y))\n",
    "test_size = len(y) - train_size\n",
    "\n",
    "X_data = torch.Tensor(np.array(x))\n",
    "Y_data = torch.Tensor(np.array(y))\n",
    "X_data = X_data.to(device)\n",
    "Y_data = Y_data.to(device)\n",
    "\n",
    "X_train = torch.Tensor(np.array(x[0:train_size])).to(device)\n",
    "Y_train = torch.Tensor(np.array(y[0:train_size])).to(device)\n",
    "\n",
    "X_test = torch.Tensor(np.array(x[train_size:len(x)])).to(device)\n",
    "Y_test = torch.Tensor(np.array(y[train_size:len(y)])).to(device)"
   ],
   "metadata": {
    "collapsed": false,
    "ExecuteTime": {
     "end_time": "2024-06-18T12:25:19.374699400Z",
     "start_time": "2024-06-18T12:25:19.301698600Z"
    }
   },
   "id": "95c15e23177e2608",
   "execution_count": 23
  },
  {
   "cell_type": "code",
   "outputs": [],
   "source": [
    "train_dataset = CustomDataset(X_train, Y_train)\n",
    "train_data_loader = DataLoader(train_dataset, batch_size=64, shuffle=True)\n",
    "\n",
    "\n",
    "valid_dataset = CustomDataset(X_test, Y_test)\n",
    "valid_data_loader = DataLoader(valid_dataset, batch_size=64, shuffle=True)"
   ],
   "metadata": {
    "collapsed": false,
    "ExecuteTime": {
     "end_time": "2024-06-18T12:25:19.549699200Z",
     "start_time": "2024-06-18T12:25:19.477698700Z"
    }
   },
   "id": "c0003497ae10df00",
   "execution_count": 24
  },
  {
   "cell_type": "code",
   "execution_count": 25,
   "id": "initial_id",
   "metadata": {
    "collapsed": true,
    "ExecuteTime": {
     "end_time": "2024-06-18T12:25:19.738990Z",
     "start_time": "2024-06-18T12:25:19.666990600Z"
    }
   },
   "outputs": [],
   "source": [
    "datalodder_dcit = {\"train\" : train_data_loader, \"valid\" : valid_data_loader}"
   ]
  },
  {
   "cell_type": "code",
   "outputs": [],
   "source": [
    "input_size = 6\n",
    "hidden_size = 128\n",
    "num_layers = 1\n",
    "num_classes = 1\n",
    "\n",
    "num_epochs = 1000\n",
    "learning_rate = 1e-4"
   ],
   "metadata": {
    "collapsed": false,
    "ExecuteTime": {
     "end_time": "2024-06-18T12:25:19.914989400Z",
     "start_time": "2024-06-18T12:25:19.842989200Z"
    }
   },
   "id": "34943f186073d7dc",
   "execution_count": 26
  },
  {
   "cell_type": "code",
   "outputs": [],
   "source": [
    "\n",
    "lstm = LSTM(num_classes, input_size, hidden_size, num_layers, device)\n",
    "lstm = lstm.to(device)\n",
    "\n",
    "loss_function = torch.nn.BCELoss()\n",
    "optimizer = torch.optim.Adam(lstm.parameters(), lr=learning_rate)"
   ],
   "metadata": {
    "collapsed": false,
    "ExecuteTime": {
     "end_time": "2024-06-18T12:25:20.104991500Z",
     "start_time": "2024-06-18T12:25:20.026989900Z"
    }
   },
   "id": "85ba05019822f73b",
   "execution_count": 27
  },
  {
   "cell_type": "code",
   "outputs": [
    {
     "name": "stderr",
     "output_type": "stream",
     "text": [
      "100%|██████████| 328/328 [00:00<00:00, 447.78it/s]\n",
      "100%|██████████| 110/110 [00:00<00:00, 1309.53it/s]\n"
     ]
    },
    {
     "name": "stdout",
     "output_type": "stream",
     "text": [
      "0.5875264305567973 0.5648255952805129\n",
      "Epoch: 01 | Epoch Time: 0m 0s\n",
      "\tTrain Loss: 0.565\n",
      "\t Valid. Loss: 0.588\n"
     ]
    },
    {
     "name": "stderr",
     "output_type": "stream",
     "text": [
      "100%|██████████| 328/328 [00:00<00:00, 484.24it/s]\n",
      "100%|██████████| 110/110 [00:00<00:00, 1309.49it/s]\n"
     ]
    },
    {
     "name": "stdout",
     "output_type": "stream",
     "text": [
      "0.5276425946963567 0.41526581464329404\n",
      "Epoch: 02 | Epoch Time: 0m 0s\n",
      "\tTrain Loss: 0.415\n",
      "\t Valid. Loss: 0.528\n"
     ]
    },
    {
     "name": "stderr",
     "output_type": "stream",
     "text": [
      "100%|██████████| 328/328 [00:00<00:00, 545.76it/s]\n",
      "100%|██████████| 110/110 [00:00<00:00, 1387.15it/s]\n"
     ]
    },
    {
     "name": "stdout",
     "output_type": "stream",
     "text": [
      "0.4788024596858483 0.30914939135611574\n",
      "Epoch: 03 | Epoch Time: 0m 0s\n",
      "\tTrain Loss: 0.309\n",
      "\t Valid. Loss: 0.479\n"
     ]
    },
    {
     "name": "stderr",
     "output_type": "stream",
     "text": [
      "100%|██████████| 328/328 [00:00<00:00, 531.61it/s]\n",
      "100%|██████████| 110/110 [00:00<00:00, 1235.99it/s]\n"
     ]
    },
    {
     "name": "stdout",
     "output_type": "stream",
     "text": [
      "0.4314057395502286 0.23660298995799423\n",
      "Epoch: 04 | Epoch Time: 0m 0s\n",
      "\tTrain Loss: 0.237\n",
      "\t Valid. Loss: 0.431\n"
     ]
    },
    {
     "name": "stderr",
     "output_type": "stream",
     "text": [
      "100%|██████████| 328/328 [00:00<00:00, 566.86it/s]\n",
      "100%|██████████| 110/110 [00:00<00:00, 1441.90it/s]\n"
     ]
    },
    {
     "name": "stdout",
     "output_type": "stream",
     "text": [
      "0.40695699051956236 0.1874044703845064\n",
      "Epoch: 05 | Epoch Time: 0m 0s\n",
      "\tTrain Loss: 0.187\n",
      "\t Valid. Loss: 0.407\n"
     ]
    },
    {
     "name": "stderr",
     "output_type": "stream",
     "text": [
      "100%|██████████| 328/328 [00:00<00:00, 507.74it/s]\n",
      "100%|██████████| 110/110 [00:00<00:00, 1078.42it/s]\n"
     ]
    },
    {
     "name": "stdout",
     "output_type": "stream",
     "text": [
      "0.39058756854885396 0.1541901772332038\n",
      "Epoch: 06 | Epoch Time: 0m 0s\n",
      "\tTrain Loss: 0.154\n",
      "\t Valid. Loss: 0.391\n"
     ]
    },
    {
     "name": "stderr",
     "output_type": "stream",
     "text": [
      "100%|██████████| 328/328 [00:00<00:00, 471.71it/s]\n",
      "100%|██████████| 110/110 [00:00<00:00, 1486.50it/s]\n"
     ]
    },
    {
     "name": "stdout",
     "output_type": "stream",
     "text": [
      "0.37927645244658953 0.1296143519906301\n",
      "Epoch: 07 | Epoch Time: 0m 0s\n",
      "\tTrain Loss: 0.130\n",
      "\t Valid. Loss: 0.379\n"
     ]
    },
    {
     "name": "stderr",
     "output_type": "stream",
     "text": [
      "100%|██████████| 328/328 [00:00<00:00, 511.70it/s]\n",
      "100%|██████████| 110/110 [00:00<00:00, 1486.51it/s]\n"
     ]
    },
    {
     "name": "stdout",
     "output_type": "stream",
     "text": [
      "0.3741941389187427 0.1122792285436511\n",
      "Epoch: 08 | Epoch Time: 0m 0s\n",
      "\tTrain Loss: 0.112\n",
      "\t Valid. Loss: 0.374\n"
     ]
    },
    {
     "name": "stderr",
     "output_type": "stream",
     "text": [
      "100%|██████████| 328/328 [00:00<00:00, 520.71it/s]\n",
      "100%|██████████| 110/110 [00:00<00:00, 1466.67it/s]\n"
     ]
    },
    {
     "name": "stdout",
     "output_type": "stream",
     "text": [
      "0.3562537142112848 0.09924038811596704\n",
      "Epoch: 09 | Epoch Time: 0m 0s\n",
      "\tTrain Loss: 0.099\n",
      "\t Valid. Loss: 0.356\n"
     ]
    },
    {
     "name": "stderr",
     "output_type": "stream",
     "text": [
      "100%|██████████| 328/328 [00:00<00:00, 504.61it/s]\n",
      "100%|██████████| 110/110 [00:00<00:00, 1447.33it/s]\n"
     ]
    },
    {
     "name": "stdout",
     "output_type": "stream",
     "text": [
      "0.36661396983539196 0.09011407775220526\n",
      "Epoch: 10 | Epoch Time: 0m 0s\n",
      "\tTrain Loss: 0.090\n",
      "\t Valid. Loss: 0.367\n"
     ]
    },
    {
     "name": "stderr",
     "output_type": "stream",
     "text": [
      "100%|██████████| 328/328 [00:00<00:00, 512.24it/s]\n",
      "100%|██████████| 110/110 [00:00<00:00, 1428.58it/s]\n"
     ]
    },
    {
     "name": "stdout",
     "output_type": "stream",
     "text": [
      "0.36626034802704455 0.08384552969208604\n",
      "Epoch: 11 | Epoch Time: 0m 0s\n",
      "\tTrain Loss: 0.084\n",
      "\t Valid. Loss: 0.366\n"
     ]
    },
    {
     "name": "stderr",
     "output_type": "stream",
     "text": [
      "100%|██████████| 328/328 [00:00<00:00, 492.49it/s]\n",
      "100%|██████████| 110/110 [00:00<00:00, 1341.45it/s]\n"
     ]
    },
    {
     "name": "stdout",
     "output_type": "stream",
     "text": [
      "0.37887587204065365 0.07768007446481422\n",
      "Epoch: 12 | Epoch Time: 0m 0s\n",
      "\tTrain Loss: 0.078\n",
      "\t Valid. Loss: 0.379\n"
     ]
    },
    {
     "name": "stderr",
     "output_type": "stream",
     "text": [
      "100%|██████████| 328/328 [00:00<00:00, 503.61it/s]\n",
      "100%|██████████| 110/110 [00:00<00:00, 1357.38it/s]\n"
     ]
    },
    {
     "name": "stdout",
     "output_type": "stream",
     "text": [
      "0.35571416327952887 0.06988309883293249\n",
      "Epoch: 13 | Epoch Time: 0m 0s\n",
      "\tTrain Loss: 0.070\n",
      "\t Valid. Loss: 0.356\n"
     ]
    },
    {
     "name": "stderr",
     "output_type": "stream",
     "text": [
      "100%|██████████| 328/328 [00:00<00:00, 520.63it/s]\n",
      "100%|██████████| 110/110 [00:00<00:00, 1374.95it/s]\n"
     ]
    },
    {
     "name": "stdout",
     "output_type": "stream",
     "text": [
      "0.35738912315647603 0.0646339084699727\n",
      "Epoch: 14 | Epoch Time: 0m 0s\n",
      "\tTrain Loss: 0.065\n",
      "\t Valid. Loss: 0.357\n"
     ]
    },
    {
     "name": "stderr",
     "output_type": "stream",
     "text": [
      "100%|██████████| 328/328 [00:00<00:00, 512.26it/s]\n",
      "100%|██████████| 110/110 [00:00<00:00, 1351.59it/s]\n"
     ]
    },
    {
     "name": "stdout",
     "output_type": "stream",
     "text": [
      "0.3593449548088519 0.0614355160509603\n",
      "Epoch: 15 | Epoch Time: 0m 0s\n",
      "\tTrain Loss: 0.061\n",
      "\t Valid. Loss: 0.359\n"
     ]
    },
    {
     "name": "stderr",
     "output_type": "stream",
     "text": [
      "100%|██████████| 328/328 [00:00<00:00, 480.94it/s]\n",
      "100%|██████████| 110/110 [00:00<00:00, 1264.35it/s]\n"
     ]
    },
    {
     "name": "stdout",
     "output_type": "stream",
     "text": [
      "0.3752247132249613 0.05885868980841453\n",
      "Epoch: 16 | Epoch Time: 0m 0s\n",
      "\tTrain Loss: 0.059\n",
      "\t Valid. Loss: 0.375\n"
     ]
    },
    {
     "name": "stderr",
     "output_type": "stream",
     "text": [
      "100%|██████████| 328/328 [00:00<00:00, 475.82it/s]\n",
      "100%|██████████| 110/110 [00:00<00:00, 1195.65it/s]\n"
     ]
    },
    {
     "name": "stdout",
     "output_type": "stream",
     "text": [
      "0.3432120186488557 0.05551950772667111\n",
      "Epoch: 17 | Epoch Time: 0m 0s\n",
      "\tTrain Loss: 0.056\n",
      "\t Valid. Loss: 0.343\n"
     ]
    },
    {
     "name": "stderr",
     "output_type": "stream",
     "text": [
      "100%|██████████| 328/328 [00:00<00:00, 544.85it/s]\n",
      "100%|██████████| 110/110 [00:00<00:00, 1564.84it/s]\n"
     ]
    },
    {
     "name": "stdout",
     "output_type": "stream",
     "text": [
      "0.38572193001505845 0.05342682854243612\n",
      "Epoch: 18 | Epoch Time: 0m 0s\n",
      "\tTrain Loss: 0.053\n",
      "\t Valid. Loss: 0.386\n"
     ]
    },
    {
     "name": "stderr",
     "output_type": "stream",
     "text": [
      "100%|██████████| 328/328 [00:00<00:00, 604.05it/s]\n",
      "100%|██████████| 110/110 [00:00<00:00, 1594.22it/s]\n"
     ]
    },
    {
     "name": "stdout",
     "output_type": "stream",
     "text": [
      "0.3588859121297086 0.050826658152013614\n",
      "Epoch: 19 | Epoch Time: 0m 0s\n",
      "\tTrain Loss: 0.051\n",
      "\t Valid. Loss: 0.359\n"
     ]
    },
    {
     "name": "stderr",
     "output_type": "stream",
     "text": [
      "100%|██████████| 328/328 [00:00<00:00, 599.63it/s]\n",
      "100%|██████████| 110/110 [00:00<00:00, 1428.65it/s]\n"
     ]
    },
    {
     "name": "stdout",
     "output_type": "stream",
     "text": [
      "0.34398060405352043 0.0486631971859961\n",
      "Epoch: 20 | Epoch Time: 0m 0s\n",
      "\tTrain Loss: 0.049\n",
      "\t Valid. Loss: 0.344\n"
     ]
    },
    {
     "name": "stderr",
     "output_type": "stream",
     "text": [
      "100%|██████████| 328/328 [00:00<00:00, 580.10it/s]\n",
      "100%|██████████| 110/110 [00:00<00:00, 1325.30it/s]\n"
     ]
    },
    {
     "name": "stdout",
     "output_type": "stream",
     "text": [
      "0.3773159643585342 0.05005719425304081\n",
      "Epoch: 21 | Epoch Time: 0m 0s\n",
      "\tTrain Loss: 0.050\n",
      "\t Valid. Loss: 0.377\n"
     ]
    },
    {
     "name": "stderr",
     "output_type": "stream",
     "text": [
      "100%|██████████| 328/328 [00:00<00:00, 573.42it/s]\n",
      "100%|██████████| 110/110 [00:00<00:00, 1182.81it/s]\n"
     ]
    },
    {
     "name": "stdout",
     "output_type": "stream",
     "text": [
      "0.3644343479507491 0.04651800347497478\n",
      "Epoch: 22 | Epoch Time: 0m 0s\n",
      "\tTrain Loss: 0.047\n",
      "\t Valid. Loss: 0.364\n"
     ]
    },
    {
     "name": "stderr",
     "output_type": "stream",
     "text": [
      "100%|██████████| 328/328 [00:00<00:00, 477.23it/s]\n",
      "100%|██████████| 110/110 [00:00<00:00, 1195.67it/s]\n"
     ]
    },
    {
     "name": "stdout",
     "output_type": "stream",
     "text": [
      "0.3412588957572547 0.04552022292358851\n",
      "Epoch: 23 | Epoch Time: 0m 0s\n",
      "\tTrain Loss: 0.046\n",
      "\t Valid. Loss: 0.341\n"
     ]
    },
    {
     "name": "stderr",
     "output_type": "stream",
     "text": [
      "100%|██████████| 328/328 [00:00<00:00, 475.36it/s]\n",
      "100%|██████████| 110/110 [00:00<00:00, 1074.95it/s]\n"
     ]
    },
    {
     "name": "stdout",
     "output_type": "stream",
     "text": [
      "0.36884672710271554 0.04591872937043847\n",
      "Epoch: 24 | Epoch Time: 0m 0s\n",
      "\tTrain Loss: 0.046\n",
      "\t Valid. Loss: 0.369\n"
     ]
    },
    {
     "name": "stderr",
     "output_type": "stream",
     "text": [
      "100%|██████████| 328/328 [00:00<00:00, 483.06it/s]\n",
      "100%|██████████| 110/110 [00:00<00:00, 1447.41it/s]\n"
     ]
    },
    {
     "name": "stdout",
     "output_type": "stream",
     "text": [
      "0.3610860486317617 0.04530471313054251\n",
      "Epoch: 25 | Epoch Time: 0m 0s\n",
      "\tTrain Loss: 0.045\n",
      "\t Valid. Loss: 0.361\n"
     ]
    },
    {
     "name": "stderr",
     "output_type": "stream",
     "text": [
      "100%|██████████| 328/328 [00:00<00:00, 496.43it/s]\n",
      "100%|██████████| 110/110 [00:00<00:00, 1466.69it/s]\n"
     ]
    },
    {
     "name": "stdout",
     "output_type": "stream",
     "text": [
      "0.32693886994714944 0.04377833678425197\n",
      "Epoch: 26 | Epoch Time: 0m 0s\n",
      "\tTrain Loss: 0.044\n",
      "\t Valid. Loss: 0.327\n"
     ]
    },
    {
     "name": "stderr",
     "output_type": "stream",
     "text": [
      "100%|██████████| 328/328 [00:00<00:00, 492.49it/s]\n",
      "100%|██████████| 110/110 [00:00<00:00, 1358.07it/s]\n"
     ]
    },
    {
     "name": "stdout",
     "output_type": "stream",
     "text": [
      "0.3403878618602326 0.042898776663572634\n",
      "Epoch: 27 | Epoch Time: 0m 0s\n",
      "\tTrain Loss: 0.043\n",
      "\t Valid. Loss: 0.340\n"
     ]
    },
    {
     "name": "stderr",
     "output_type": "stream",
     "text": [
      "100%|██████████| 328/328 [00:00<00:00, 503.61it/s]\n",
      "100%|██████████| 110/110 [00:00<00:00, 1358.10it/s]\n"
     ]
    },
    {
     "name": "stdout",
     "output_type": "stream",
     "text": [
      "0.3477806920466461 0.04246697537994874\n",
      "Epoch: 28 | Epoch Time: 0m 0s\n",
      "\tTrain Loss: 0.042\n",
      "\t Valid. Loss: 0.348\n"
     ]
    },
    {
     "name": "stderr",
     "output_type": "stream",
     "text": [
      "100%|██████████| 328/328 [00:00<00:00, 440.02it/s]\n",
      "100%|██████████| 110/110 [00:00<00:00, 1067.99it/s]\n"
     ]
    },
    {
     "name": "stdout",
     "output_type": "stream",
     "text": [
      "0.39860987269596426 0.04197889353601139\n",
      "Epoch: 29 | Epoch Time: 0m 0s\n",
      "\tTrain Loss: 0.042\n",
      "\t Valid. Loss: 0.399\n"
     ]
    },
    {
     "name": "stderr",
     "output_type": "stream",
     "text": [
      "100%|██████████| 328/328 [00:00<00:00, 421.97it/s]\n",
      "100%|██████████| 110/110 [00:00<00:00, 1222.25it/s]\n"
     ]
    },
    {
     "name": "stdout",
     "output_type": "stream",
     "text": [
      "0.39242002438143936 0.042118586310468456\n",
      "Epoch: 30 | Epoch Time: 0m 0s\n",
      "\tTrain Loss: 0.042\n",
      "\t Valid. Loss: 0.392\n"
     ]
    },
    {
     "name": "stderr",
     "output_type": "stream",
     "text": [
      "100%|██████████| 328/328 [00:00<00:00, 468.37it/s]\n",
      "100%|██████████| 110/110 [00:00<00:00, 1428.48it/s]\n"
     ]
    },
    {
     "name": "stdout",
     "output_type": "stream",
     "text": [
      "0.31141588912065715 0.04216518569021674\n",
      "Epoch: 31 | Epoch Time: 0m 0s\n",
      "\tTrain Loss: 0.042\n",
      "\t Valid. Loss: 0.311\n"
     ]
    },
    {
     "name": "stderr",
     "output_type": "stream",
     "text": [
      "100%|██████████| 328/328 [00:00<00:00, 524.80it/s]\n",
      "100%|██████████| 110/110 [00:00<00:00, 1486.46it/s]\n"
     ]
    },
    {
     "name": "stdout",
     "output_type": "stream",
     "text": [
      "0.36955625386953167 0.042131400038333995\n",
      "Epoch: 32 | Epoch Time: 0m 0s\n",
      "\tTrain Loss: 0.042\n",
      "\t Valid. Loss: 0.370\n"
     ]
    },
    {
     "name": "stderr",
     "output_type": "stream",
     "text": [
      "100%|██████████| 328/328 [00:00<00:00, 560.39it/s]\n",
      "100%|██████████| 110/110 [00:00<00:00, 1358.03it/s]\n"
     ]
    },
    {
     "name": "stdout",
     "output_type": "stream",
     "text": [
      "0.32843048783651185 0.039451059827504555\n",
      "Epoch: 33 | Epoch Time: 0m 0s\n",
      "\tTrain Loss: 0.039\n",
      "\t Valid. Loss: 0.328\n"
     ]
    },
    {
     "name": "stderr",
     "output_type": "stream",
     "text": [
      "100%|██████████| 328/328 [00:00<00:00, 554.41it/s]\n",
      "100%|██████████| 110/110 [00:00<00:00, 1447.40it/s]\n"
     ]
    },
    {
     "name": "stdout",
     "output_type": "stream",
     "text": [
      "0.32938388434384663 0.03805191025597179\n",
      "Epoch: 34 | Epoch Time: 0m 0s\n",
      "\tTrain Loss: 0.038\n",
      "\t Valid. Loss: 0.329\n"
     ]
    },
    {
     "name": "stderr",
     "output_type": "stream",
     "text": [
      "100%|██████████| 328/328 [00:00<00:00, 582.59it/s]\n",
      "100%|██████████| 110/110 [00:00<00:00, 1231.40it/s]\n"
     ]
    },
    {
     "name": "stdout",
     "output_type": "stream",
     "text": [
      "0.3084462781083554 0.03909374280853101\n",
      "Epoch: 35 | Epoch Time: 0m 0s\n",
      "\tTrain Loss: 0.039\n",
      "\t Valid. Loss: 0.308\n"
     ]
    },
    {
     "name": "stderr",
     "output_type": "stream",
     "text": [
      "100%|██████████| 328/328 [00:00<00:00, 581.21it/s]\n",
      "100%|██████████| 110/110 [00:00<00:00, 1447.33it/s]\n"
     ]
    },
    {
     "name": "stdout",
     "output_type": "stream",
     "text": [
      "0.3396370941575905 0.03958745003822329\n",
      "Epoch: 36 | Epoch Time: 0m 0s\n",
      "\tTrain Loss: 0.040\n",
      "\t Valid. Loss: 0.340\n"
     ]
    },
    {
     "name": "stderr",
     "output_type": "stream",
     "text": [
      "100%|██████████| 328/328 [00:00<00:00, 573.43it/s]\n",
      "100%|██████████| 110/110 [00:00<00:00, 1480.68it/s]\n"
     ]
    },
    {
     "name": "stdout",
     "output_type": "stream",
     "text": [
      "0.3617834756995023 0.03865200447122292\n",
      "Epoch: 37 | Epoch Time: 0m 0s\n",
      "\tTrain Loss: 0.039\n",
      "\t Valid. Loss: 0.362\n"
     ]
    },
    {
     "name": "stderr",
     "output_type": "stream",
     "text": [
      "100%|██████████| 328/328 [00:00<00:00, 569.45it/s]\n",
      "100%|██████████| 110/110 [00:00<00:00, 1428.56it/s]\n"
     ]
    },
    {
     "name": "stdout",
     "output_type": "stream",
     "text": [
      "0.38166966463551955 0.037339824601834576\n",
      "Epoch: 38 | Epoch Time: 0m 0s\n",
      "\tTrain Loss: 0.037\n",
      "\t Valid. Loss: 0.382\n"
     ]
    },
    {
     "name": "stderr",
     "output_type": "stream",
     "text": [
      "100%|██████████| 328/328 [00:00<00:00, 562.60it/s]\n",
      "100%|██████████| 110/110 [00:00<00:00, 1466.48it/s]\n"
     ]
    },
    {
     "name": "stdout",
     "output_type": "stream",
     "text": [
      "0.3873846526792198 0.038453674220345825\n",
      "Epoch: 39 | Epoch Time: 0m 0s\n",
      "\tTrain Loss: 0.038\n",
      "\t Valid. Loss: 0.387\n"
     ]
    },
    {
     "name": "stderr",
     "output_type": "stream",
     "text": [
      "100%|██████████| 328/328 [00:00<00:00, 555.21it/s]\n",
      "100%|██████████| 110/110 [00:00<00:00, 1250.02it/s]\n"
     ]
    },
    {
     "name": "stdout",
     "output_type": "stream",
     "text": [
      "0.3697918621250688 0.03823577195914597\n",
      "Epoch: 40 | Epoch Time: 0m 0s\n",
      "\tTrain Loss: 0.038\n",
      "\t Valid. Loss: 0.370\n"
     ]
    },
    {
     "name": "stderr",
     "output_type": "stream",
     "text": [
      "100%|██████████| 328/328 [00:00<00:00, 548.50it/s]\n",
      "100%|██████████| 110/110 [00:00<00:00, 1235.97it/s]\n"
     ]
    },
    {
     "name": "stdout",
     "output_type": "stream",
     "text": [
      "0.4205421231458777 0.03728395223911537\n",
      "Epoch: 41 | Epoch Time: 0m 0s\n",
      "\tTrain Loss: 0.037\n",
      "\t Valid. Loss: 0.421\n"
     ]
    },
    {
     "name": "stderr",
     "output_type": "stream",
     "text": [
      "100%|██████████| 328/328 [00:00<00:00, 520.38it/s]\n",
      "100%|██████████| 110/110 [00:00<00:00, 1392.33it/s]\n"
     ]
    },
    {
     "name": "stdout",
     "output_type": "stream",
     "text": [
      "0.38942158785139475 0.039295830748775566\n",
      "Epoch: 42 | Epoch Time: 0m 0s\n",
      "\tTrain Loss: 0.039\n",
      "\t Valid. Loss: 0.389\n"
     ]
    },
    {
     "name": "stderr",
     "output_type": "stream",
     "text": [
      "100%|██████████| 328/328 [00:00<00:00, 506.95it/s]\n",
      "100%|██████████| 110/110 [00:00<00:00, 1386.96it/s]\n"
     ]
    },
    {
     "name": "stdout",
     "output_type": "stream",
     "text": [
      "0.36586284325363677 0.03737926945378104\n",
      "Epoch: 43 | Epoch Time: 0m 0s\n",
      "\tTrain Loss: 0.037\n",
      "\t Valid. Loss: 0.366\n"
     ]
    },
    {
     "name": "stderr",
     "output_type": "stream",
     "text": [
      "100%|██████████| 328/328 [00:00<00:00, 448.70it/s]\n",
      "100%|██████████| 110/110 [00:00<00:00, 1195.61it/s]\n"
     ]
    },
    {
     "name": "stdout",
     "output_type": "stream",
     "text": [
      "0.3357029586110466 0.038110660656034495\n",
      "Epoch: 44 | Epoch Time: 0m 0s\n",
      "\tTrain Loss: 0.038\n",
      "\t Valid. Loss: 0.336\n"
     ]
    },
    {
     "name": "stderr",
     "output_type": "stream",
     "text": [
      "100%|██████████| 328/328 [00:00<00:00, 415.04it/s]\n",
      "100%|██████████| 110/110 [00:00<00:00, 1341.44it/s]"
     ]
    },
    {
     "name": "stdout",
     "output_type": "stream",
     "text": [
      "0.39284051885546417 0.037280149765108184\n",
      "There is no improvement during last 10 epochs.\n"
     ]
    },
    {
     "name": "stderr",
     "output_type": "stream",
     "text": [
      "\n"
     ]
    }
   ],
   "source": [
    "x_histry, y_history =trainer(lstm, 1000, datalodder_dcit, optimizer, loss_function, 10, device)\n"
   ],
   "metadata": {
    "collapsed": false,
    "ExecuteTime": {
     "end_time": "2024-06-18T12:25:53.199079900Z",
     "start_time": "2024-06-18T12:25:20.451138Z"
    }
   },
   "id": "46f9db515b7af174",
   "execution_count": 28
  },
  {
   "cell_type": "code",
   "outputs": [
    {
     "data": {
      "text/plain": "<Figure size 640x480 with 1 Axes>",
      "image/png": "[encoded data removed]"
     },
     "metadata": {},
     "output_type": "display_data"
    }
   ],
   "source": [
    "epochs = range(1, len(x_histry) + 1)\n",
    "\n",
    "# Plot the loss values\n",
    "plt.plot(epochs, x_histry, 'b', label='Training loss')\n",
    "plt.title('Training loss')\n",
    "plt.xlabel('Epochs')\n",
    "plt.ylabel('Loss')\n",
    "plt.legend()\n",
    "plt.show()"
   ],
   "metadata": {
    "collapsed": false,
    "ExecuteTime": {
     "end_time": "2024-06-18T12:26:08.696618800Z",
     "start_time": "2024-06-18T12:26:08.565619400Z"
    }
   },
   "id": "243c3b03696f08af",
   "execution_count": 30
  },
  {
   "cell_type": "code",
   "outputs": [
    {
     "name": "stdout",
     "output_type": "stream",
     "text": [
      "0정확도 : 84.375%\n",
      "1정확도 : 90.625%\n",
      "2정확도 : 95.3125%\n",
      "3정확도 : 92.1875%\n",
      "4정확도 : 85.9375%\n",
      "5정확도 : 85.9375%\n",
      "6정확도 : 87.5%\n",
      "7정확도 : 87.5%\n",
      "8정확도 : 92.1875%\n",
      "9정확도 : 90.625%\n",
      "10정확도 : 92.1875%\n",
      "11정확도 : 87.5%\n",
      "12정확도 : 90.625%\n",
      "13정확도 : 92.1875%\n",
      "14정확도 : 90.625%\n",
      "15정확도 : 87.5%\n",
      "16정확도 : 85.9375%\n",
      "17정확도 : 82.8125%\n",
      "18정확도 : 87.5%\n",
      "19정확도 : 82.8125%\n",
      "20정확도 : 78.125%\n",
      "21정확도 : 84.375%\n",
      "22정확도 : 82.8125%\n",
      "23정확도 : 82.8125%\n",
      "24정확도 : 85.9375%\n",
      "25정확도 : 92.1875%\n",
      "26정확도 : 87.5%\n",
      "27정확도 : 90.625%\n",
      "28정확도 : 87.5%\n",
      "29정확도 : 84.375%\n",
      "30정확도 : 90.625%\n",
      "31정확도 : 89.0625%\n",
      "32정확도 : 87.5%\n",
      "33정확도 : 89.0625%\n",
      "34정확도 : 84.375%\n",
      "35정확도 : 82.8125%\n",
      "36정확도 : 92.1875%\n",
      "37정확도 : 85.9375%\n",
      "38정확도 : 89.0625%\n",
      "39정확도 : 87.5%\n",
      "40정확도 : 85.9375%\n",
      "41정확도 : 87.5%\n",
      "42정확도 : 90.625%\n",
      "43정확도 : 92.1875%\n",
      "44정확도 : 89.0625%\n",
      "45정확도 : 79.6875%\n",
      "46정확도 : 84.375%\n",
      "47정확도 : 76.5625%\n",
      "48정확도 : 84.375%\n",
      "49정확도 : 84.375%\n",
      "50정확도 : 85.9375%\n",
      "51정확도 : 93.75%\n",
      "52정확도 : 89.0625%\n",
      "53정확도 : 85.9375%\n",
      "54정확도 : 90.625%\n",
      "55정확도 : 87.5%\n",
      "56정확도 : 90.625%\n",
      "57정확도 : 84.375%\n",
      "58정확도 : 90.625%\n",
      "59정확도 : 92.1875%\n",
      "60정확도 : 87.5%\n",
      "61정확도 : 84.375%\n",
      "62정확도 : 82.8125%\n",
      "63정확도 : 89.0625%\n",
      "64정확도 : 85.9375%\n",
      "65정확도 : 90.625%\n",
      "66정확도 : 85.9375%\n",
      "67정확도 : 79.6875%\n",
      "68정확도 : 87.5%\n",
      "69정확도 : 84.375%\n",
      "70정확도 : 90.625%\n",
      "71정확도 : 89.0625%\n",
      "72정확도 : 85.9375%\n",
      "73정확도 : 81.25%\n",
      "74정확도 : 81.25%\n",
      "75정확도 : 85.9375%\n",
      "76정확도 : 90.625%\n",
      "77정확도 : 90.625%\n",
      "78정확도 : 90.625%\n",
      "79정확도 : 90.625%\n",
      "80정확도 : 92.1875%\n",
      "81정확도 : 89.0625%\n",
      "82정확도 : 89.0625%\n",
      "83정확도 : 92.1875%\n",
      "84정확도 : 89.0625%\n",
      "85정확도 : 84.375%\n",
      "86정확도 : 90.625%\n",
      "87정확도 : 89.0625%\n",
      "88정확도 : 89.0625%\n",
      "89정확도 : 87.5%\n",
      "90정확도 : 84.375%\n",
      "91정확도 : 81.25%\n",
      "92정확도 : 87.5%\n",
      "93정확도 : 87.5%\n",
      "94정확도 : 89.0625%\n",
      "95정확도 : 81.25%\n",
      "96정확도 : 85.9375%\n",
      "97정확도 : 81.25%\n",
      "98정확도 : 89.0625%\n",
      "99정확도 : 85.9375%\n",
      "100정확도 : 87.5%\n",
      "101정확도 : 82.8125%\n",
      "102정확도 : 84.375%\n",
      "103정확도 : 93.75%\n",
      "104정확도 : 90.625%\n",
      "105정확도 : 82.8125%\n",
      "106정확도 : 82.8125%\n",
      "107정확도 : 85.9375%\n",
      "108정확도 : 87.5%\n",
      "109정확도 : 81.81818389892578%\n"
     ]
    }
   ],
   "source": [
    "epoch_loss = 0\n",
    "epoch_acc = 0\n",
    "lstm.eval()\n",
    "loss_history = []\n",
    "\n",
    "\n",
    "model = LSTM(num_classes, input_size, hidden_size, num_layers, device)\n",
    "\n",
    "model.load_state_dict(torch.load('save.pt'))\n",
    "model.eval()  # 모델을 평가 모드로 설정합니다.\n",
    "model.to(device)\n",
    "\n",
    "\n",
    "with torch.no_grad():\n",
    "    for i, (d, v) in enumerate(valid_data_loader):\n",
    "        data = d\n",
    "        v = v\n",
    "        output_data = model(data)\n",
    "        result = F.sigmoid(output_data)\n",
    "        rounded_preds = torch.round(result)\n",
    "        correct = (rounded_preds.flatten() == v)\n",
    "        accuracy = correct.sum() / len(correct)\n",
    "        print(f\"{i}정확도 : {accuracy*100}%\")\n",
    "        loss = loss_function(result.reshape(-1, 1).to(torch.float32), v.reshape(-1, 1).to(torch.float32))\n",
    "        loss_history.append(loss.item())\n",
    "        epoch_loss += loss.item()"
   ],
   "metadata": {
    "collapsed": false,
    "ExecuteTime": {
     "end_time": "2024-06-18T12:28:15.102634800Z",
     "start_time": "2024-06-18T12:28:14.815633600Z"
    }
   },
   "id": "eafe94361c7bc3d6",
   "execution_count": 32
  },
  {
   "cell_type": "code",
   "outputs": [],
   "source": [],
   "metadata": {
    "collapsed": false
   },
   "id": "fe6a5188ca9faafc"
  }
 ],
 "metadata": {
  "kernelspec": {
   "display_name": "Python 3",
   "language": "python",
   "name": "python3"
  },
  "language_info": {
   "codemirror_mode": {
    "name": "ipython",
    "version": 2
   },
   "file_extension": ".py",
   "mimetype": "text/x-python",
   "name": "python",
   "nbconvert_exporter": "python",
   "pygments_lexer": "ipython2",
   "version": "2.7.6"
  }
 },
 "nbformat": 4,
 "nbformat_minor": 5
}
