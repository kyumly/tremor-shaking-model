{
 "cells": [
  {
   "cell_type": "code",
   "outputs": [
    {
     "name": "stdout",
     "output_type": "stream",
     "text": [
      "The autoreload extension is already loaded. To reload it, use:\n",
      "  %reload_ext autoreload\n"
     ]
    }
   ],
   "source": [
    "# 커널 리셋 대용\n",
    "import numpy as np\n",
    "import pandas as pd\n",
    "import matplotlib.pyplot as plt\n",
    "from sklearn.model_selection import train_test_split\n",
    "import torch\n",
    "from sklearn.preprocessing import StandardScaler\n",
    "import torch\n",
    "import torch.nn as nn\n",
    "import torch.nn.functional as F\n",
    "from torch.utils.data import Dataset, DataLoader\n",
    "import os\n",
    "from data import CustomDataset\n",
    "from models import trainer, CustomModel\n",
    "\n",
    "\n",
    "%load_ext autoreload\n",
    "%autoreload 2"
   ],
   "metadata": {
    "collapsed": false,
    "ExecuteTime": {
     "end_time": "2024-06-04T09:37:20.224324100Z",
     "start_time": "2024-06-04T09:37:20.150910600Z"
    }
   },
   "id": "70171eabdd28b98",
   "execution_count": 12
  },
  {
   "cell_type": "code",
   "outputs": [
    {
     "name": "stdout",
     "output_type": "stream",
     "text": [
      "float64\n",
      "(22396, 6)\n",
      "(5599, 6)\n",
      "(22396,)\n",
      "(5599,)\n"
     ]
    }
   ],
   "source": [
    "from trains.data import get_data\n",
    "torch.random.manual_seed(42)\n",
    "device = torch.device(\"cuda\" if torch.cuda.is_available() else \"cpu\")\n",
    "\n",
    "data = pd.read_csv(\"./Dataset.csv\")\n",
    "device = torch.device(\"cuda\" if torch.cuda.is_available() else \"cpu\")\n",
    "\n",
    "x_train, x_valid, y_train, y_valid = get_data(data)\n",
    "\n",
    "print(x_train.shape)\n",
    "print(x_valid.shape)\n",
    "print(y_train.shape)\n",
    "print(y_valid.shape)"
   ],
   "metadata": {
    "collapsed": false,
    "ExecuteTime": {
     "end_time": "2024-06-04T09:37:20.425634Z",
     "start_time": "2024-06-04T09:37:20.341013400Z"
    }
   },
   "id": "b426274f078b7791",
   "execution_count": 13
  },
  {
   "cell_type": "code",
   "outputs": [],
   "source": [
    "train_dataset = CustomDataset(x_train, y_train)\n",
    "train_data_loader = DataLoader(train_dataset, batch_size=64, shuffle=True)\n",
    "\n",
    "\n",
    "valid_dataset = CustomDataset(x_valid, y_valid)\n",
    "valid_data_loader = DataLoader(valid_dataset, batch_size=64, shuffle=True)"
   ],
   "metadata": {
    "collapsed": false,
    "ExecuteTime": {
     "end_time": "2024-06-04T09:37:20.778373Z",
     "start_time": "2024-06-04T09:37:20.709210400Z"
    }
   },
   "id": "465a8154930608bb",
   "execution_count": 14
  },
  {
   "cell_type": "code",
   "outputs": [],
   "source": [
    "datalodder_dcit = {\"train\" : train_data_loader, \"valid\" : valid_data_loader}"
   ],
   "metadata": {
    "collapsed": false,
    "ExecuteTime": {
     "end_time": "2024-06-04T09:37:21.137135Z",
     "start_time": "2024-06-04T09:37:21.076482900Z"
    }
   },
   "id": "27596203fd0bdddc",
   "execution_count": 15
  },
  {
   "cell_type": "code",
   "outputs": [
    {
     "name": "stderr",
     "output_type": "stream",
     "text": [
      "100%|██████████| 350/350 [00:00<00:00, 479.38it/s]\n",
      "100%|██████████| 88/88 [00:00<00:00, 1895.59it/s]\n"
     ]
    },
    {
     "name": "stdout",
     "output_type": "stream",
     "text": [
      "52.75199320636926 54.24154063653996\n",
      "Epoch: 01 | Epoch Time: 0m 0s\n",
      "\tTrain Loss: 54.242\n",
      "\t Valid. Loss: 52.752\n"
     ]
    },
    {
     "name": "stderr",
     "output_type": "stream",
     "text": [
      "100%|██████████| 350/350 [00:00<00:00, 639.11it/s]\n",
      "100%|██████████| 88/88 [00:00<00:00, 1871.89it/s]\n"
     ]
    },
    {
     "name": "stdout",
     "output_type": "stream",
     "text": [
      "48.376783709032885 53.108933088966005\n",
      "Epoch: 02 | Epoch Time: 0m 0s\n",
      "\tTrain Loss: 53.109\n",
      "\t Valid. Loss: 48.377\n"
     ]
    },
    {
     "name": "stderr",
     "output_type": "stream",
     "text": [
      "100%|██████████| 350/350 [00:00<00:00, 648.82it/s]\n",
      "100%|██████████| 88/88 [00:00<00:00, 2017.97it/s]\n"
     ]
    },
    {
     "name": "stdout",
     "output_type": "stream",
     "text": [
      "2.931057712096497 21.165881135949448\n",
      "Epoch: 03 | Epoch Time: 0m 0s\n",
      "\tTrain Loss: 21.166\n",
      "\t Valid. Loss: 2.931\n"
     ]
    },
    {
     "name": "stderr",
     "output_type": "stream",
     "text": [
      "100%|██████████| 350/350 [00:00<00:00, 669.00it/s]\n",
      "100%|██████████| 88/88 [00:00<00:00, 1990.36it/s]\n"
     ]
    },
    {
     "name": "stdout",
     "output_type": "stream",
     "text": [
      "0.83191758785942 1.4784791117226925\n",
      "Epoch: 04 | Epoch Time: 0m 0s\n",
      "\tTrain Loss: 1.478\n",
      "\t Valid. Loss: 0.832\n"
     ]
    },
    {
     "name": "stderr",
     "output_type": "stream",
     "text": [
      "100%|██████████| 350/350 [00:00<00:00, 665.49it/s]\n",
      "100%|██████████| 88/88 [00:00<00:00, 1999.90it/s]\n"
     ]
    },
    {
     "name": "stdout",
     "output_type": "stream",
     "text": [
      "0.5202468750369605 0.6823066050030618\n",
      "Epoch: 05 | Epoch Time: 0m 0s\n",
      "\tTrain Loss: 0.682\n",
      "\t Valid. Loss: 0.520\n"
     ]
    },
    {
     "name": "stderr",
     "output_type": "stream",
     "text": [
      "100%|██████████| 350/350 [00:00<00:00, 644.86it/s]\n",
      "100%|██████████| 88/88 [00:00<00:00, 2174.37it/s]\n"
     ]
    },
    {
     "name": "stdout",
     "output_type": "stream",
     "text": [
      "0.4205856476323682 0.5078761293142453\n",
      "Epoch: 06 | Epoch Time: 0m 0s\n",
      "\tTrain Loss: 0.508\n",
      "\t Valid. Loss: 0.421\n"
     ]
    },
    {
     "name": "stderr",
     "output_type": "stream",
     "text": [
      "100%|██████████| 350/350 [00:00<00:00, 652.41it/s]\n",
      "100%|██████████| 88/88 [00:00<00:00, 1609.11it/s]\n"
     ]
    },
    {
     "name": "stdout",
     "output_type": "stream",
     "text": [
      "0.3420037391883525 0.41046642961227503\n",
      "Epoch: 07 | Epoch Time: 0m 0s\n",
      "\tTrain Loss: 0.410\n",
      "\t Valid. Loss: 0.342\n"
     ]
    },
    {
     "name": "stderr",
     "output_type": "stream",
     "text": [
      "100%|██████████| 350/350 [00:00<00:00, 650.05it/s]\n",
      "100%|██████████| 88/88 [00:00<00:00, 2108.23it/s]\n"
     ]
    },
    {
     "name": "stdout",
     "output_type": "stream",
     "text": [
      "0.28806437025743803 0.34140561628840904\n",
      "Epoch: 08 | Epoch Time: 0m 0s\n",
      "\tTrain Loss: 0.341\n",
      "\t Valid. Loss: 0.288\n"
     ]
    },
    {
     "name": "stderr",
     "output_type": "stream",
     "text": [
      "100%|██████████| 350/350 [00:00<00:00, 644.12it/s]\n",
      "100%|██████████| 88/88 [00:00<00:00, 1728.75it/s]\n"
     ]
    },
    {
     "name": "stdout",
     "output_type": "stream",
     "text": [
      "0.23981486524625167 0.2822804140158853\n",
      "Epoch: 09 | Epoch Time: 0m 0s\n",
      "\tTrain Loss: 0.282\n",
      "\t Valid. Loss: 0.240\n"
     ]
    },
    {
     "name": "stderr",
     "output_type": "stream",
     "text": [
      "100%|██████████| 350/350 [00:00<00:00, 663.70it/s]\n",
      "100%|██████████| 88/88 [00:00<00:00, 1872.65it/s]"
     ]
    },
    {
     "name": "stdout",
     "output_type": "stream",
     "text": [
      "0.20209593738984097 0.2306608903282455\n",
      "Epoch: 10 | Epoch Time: 0m 0s\n",
      "\tTrain Loss: 0.231\n",
      "\t Valid. Loss: 0.202\n"
     ]
    },
    {
     "name": "stderr",
     "output_type": "stream",
     "text": [
      "\n"
     ]
    }
   ],
   "source": [
    "model = CustomModel()\n",
    "optimizer = torch.optim.Adam(model.parameters(), lr=1e-5)\n",
    "criterion = nn.BCELoss()\n",
    "model.to(device)\n",
    "criterion.to(device)\n",
    "\n",
    "x_histry, y_history =trainer(model, 10, datalodder_dcit, optimizer, criterion, 10, device)"
   ],
   "metadata": {
    "collapsed": false,
    "ExecuteTime": {
     "end_time": "2024-06-04T09:37:27.879014600Z",
     "start_time": "2024-06-04T09:37:21.749389600Z"
    }
   },
   "id": "8ac860d2aecdc4ea",
   "execution_count": 16
  },
  {
   "cell_type": "code",
   "outputs": [
    {
     "data": {
      "text/plain": "<Figure size 640x480 with 1 Axes>",
      "image/png": "[encoded data removed]"
     },
     "metadata": {},
     "output_type": "display_data"
    }
   ],
   "source": [
    "epochs = range(1, len(x_histry) + 1)\n",
    "\n",
    "# Plot the loss values\n",
    "plt.plot(epochs, x_histry, 'b', label='Training loss')\n",
    "plt.title('Training loss')\n",
    "plt.xlabel('Epochs')\n",
    "plt.ylabel('Loss')\n",
    "plt.legend()\n",
    "plt.show()"
   ],
   "metadata": {
    "collapsed": false,
    "ExecuteTime": {
     "end_time": "2024-06-04T09:37:28.034437600Z",
     "start_time": "2024-06-04T09:37:27.881077800Z"
    }
   },
   "id": "6d59aa45f1ecc2e1",
   "execution_count": 17
  },
  {
   "cell_type": "code",
   "outputs": [
    {
     "name": "stdout",
     "output_type": "stream",
     "text": [
      "0정확도 : 96.875%\n",
      "1정확도 : 96.875%\n",
      "2정확도 : 98.4375%\n",
      "3정확도 : 96.875%\n",
      "4정확도 : 100.0%\n",
      "5정확도 : 98.4375%\n",
      "6정확도 : 98.4375%\n",
      "7정확도 : 93.75%\n",
      "8정확도 : 100.0%\n",
      "9정확도 : 96.875%\n",
      "10정확도 : 100.0%\n",
      "11정확도 : 95.3125%\n",
      "12정확도 : 98.4375%\n",
      "13정확도 : 96.875%\n",
      "14정확도 : 93.75%\n",
      "15정확도 : 96.875%\n",
      "16정확도 : 98.4375%\n",
      "17정확도 : 96.875%\n",
      "18정확도 : 98.4375%\n",
      "19정확도 : 100.0%\n",
      "20정확도 : 96.875%\n",
      "21정확도 : 100.0%\n",
      "22정확도 : 98.4375%\n",
      "23정확도 : 96.875%\n",
      "24정확도 : 96.875%\n",
      "25정확도 : 98.4375%\n",
      "26정확도 : 96.875%\n",
      "27정확도 : 98.4375%\n",
      "28정확도 : 100.0%\n",
      "29정확도 : 96.875%\n",
      "30정확도 : 98.4375%\n",
      "31정확도 : 95.3125%\n",
      "32정확도 : 96.875%\n",
      "33정확도 : 95.3125%\n",
      "34정확도 : 98.4375%\n",
      "35정확도 : 92.1875%\n",
      "36정확도 : 98.4375%\n",
      "37정확도 : 100.0%\n",
      "38정확도 : 95.3125%\n",
      "39정확도 : 100.0%\n",
      "40정확도 : 93.75%\n",
      "41정확도 : 95.3125%\n",
      "42정확도 : 93.75%\n",
      "43정확도 : 96.875%\n",
      "44정확도 : 98.4375%\n",
      "45정확도 : 96.875%\n",
      "46정확도 : 96.875%\n",
      "47정확도 : 96.875%\n",
      "48정확도 : 96.875%\n",
      "49정확도 : 100.0%\n",
      "50정확도 : 98.4375%\n",
      "51정확도 : 96.875%\n",
      "52정확도 : 95.3125%\n",
      "53정확도 : 95.3125%\n",
      "54정확도 : 98.4375%\n",
      "55정확도 : 98.4375%\n",
      "56정확도 : 95.3125%\n",
      "57정확도 : 100.0%\n",
      "58정확도 : 100.0%\n",
      "59정확도 : 96.875%\n",
      "60정확도 : 98.4375%\n",
      "61정확도 : 98.4375%\n",
      "62정확도 : 95.3125%\n",
      "63정확도 : 98.4375%\n",
      "64정확도 : 96.875%\n",
      "65정확도 : 95.3125%\n",
      "66정확도 : 98.4375%\n",
      "67정확도 : 96.875%\n",
      "68정확도 : 98.4375%\n",
      "69정확도 : 96.875%\n",
      "70정확도 : 96.875%\n",
      "71정확도 : 92.1875%\n",
      "72정확도 : 93.75%\n",
      "73정확도 : 93.75%\n",
      "74정확도 : 96.875%\n",
      "75정확도 : 98.4375%\n",
      "76정확도 : 98.4375%\n",
      "77정확도 : 98.4375%\n",
      "78정확도 : 90.625%\n",
      "79정확도 : 100.0%\n",
      "80정확도 : 98.4375%\n",
      "81정확도 : 96.875%\n",
      "82정확도 : 96.875%\n",
      "83정확도 : 96.875%\n",
      "84정확도 : 100.0%\n",
      "85정확도 : 96.875%\n",
      "86정확도 : 95.3125%\n",
      "87정확도 : 93.54838562011719%\n"
     ]
    }
   ],
   "source": [
    "epoch_loss = 0\n",
    "epoch_acc = 0\n",
    "model.eval()\n",
    "loss_history = []\n",
    "\n",
    "model = CustomModel()\n",
    "\n",
    "model.load_state_dict(torch.load('save.pt'))\n",
    "model.eval()  # 모델을 평가 모드로 설정합니다.\n",
    "\n",
    "\n",
    "with torch.no_grad():\n",
    "    for i, (d, v) in enumerate(valid_data_loader):\n",
    "        data = d\n",
    "        v = v\n",
    "        output_data = model(data)\n",
    "        result = F.sigmoid(output_data)\n",
    "        rounded_preds = torch.round(result)\n",
    "        correct = (rounded_preds.flatten() == v)\n",
    "        accuracy = correct.sum() / len(correct)\n",
    "        print(f\"{i}정확도 : {accuracy*100}%\")\n",
    "        loss = criterion(result.reshape(-1, 1).to(torch.float32), v.reshape(-1, 1).to(torch.float32))\n",
    "        loss_history.append(loss.item())\n",
    "        epoch_loss += loss.item()"
   ],
   "metadata": {
    "collapsed": false,
    "ExecuteTime": {
     "end_time": "2024-06-04T09:37:28.920452600Z",
     "start_time": "2024-06-04T09:37:28.797972300Z"
    }
   },
   "id": "2115345ad5093a22",
   "execution_count": 18
  },
  {
   "cell_type": "code",
   "outputs": [],
   "source": [],
   "metadata": {
    "collapsed": false
   },
   "id": "a9ea8ab1f0e2098d"
  }
 ],
 "metadata": {
  "kernelspec": {
   "display_name": "Python 3",
   "language": "python",
   "name": "python3"
  },
  "language_info": {
   "codemirror_mode": {
    "name": "ipython",
    "version": 2
   },
   "file_extension": ".py",
   "mimetype": "text/x-python",
   "name": "python",
   "nbconvert_exporter": "python",
   "pygments_lexer": "ipython2",
   "version": "2.7.6"
  }
 },
 "nbformat": 4,
 "nbformat_minor": 5
}
